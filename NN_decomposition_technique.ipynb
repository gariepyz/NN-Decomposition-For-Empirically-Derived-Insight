{
 "cells": [
  {
   "cell_type": "markdown",
   "id": "0c4b25bb",
   "metadata": {},
   "source": [
    "# Notebook on How to Perform Neural Network Decomposition"
   ]
  },
  {
   "cell_type": "code",
   "execution_count": 5,
   "id": "0c73e493",
   "metadata": {},
   "outputs": [],
   "source": [
    "#Package imports\n",
    "import pandas as pd\n",
    "import numpy as np \n",
    "import matplotlib.pyplot as plt\n",
    "import seaborn as sns\n",
    "import math\n",
    "\n",
    "import tensorflow as tf\n",
    "from tensorflow.keras.models import Sequential\n",
    "from tensorflow.keras.layers import Dense, Flatten\n",
    "from sklearn.model_selection import train_test_split\n",
    "\n",
    "#Helper functions for specific feature engineering used in paper and NN decomp alg\n",
    "import feature_eng"
   ]
  },
  {
   "cell_type": "markdown",
   "id": "538a3567",
   "metadata": {},
   "source": [
    "## Step 1: Import & Format Data of a Specific Adsorbate"
   ]
  },
  {
   "cell_type": "code",
   "execution_count": 6,
   "id": "44c74772",
   "metadata": {
    "scrolled": true
   },
   "outputs": [],
   "source": [
    "#Read in CO,CHO,COOH dataset, select 1 of the 3 adsorbates to study\n",
    "df = pd.read_csv('All_data.csv')\n",
    "df_COOH = df[df['Adsorbate']=='COOH']\n",
    "\n",
    "#Create inputs (x) and labels (y) for MLP NN model\n",
    "x = feature_eng.feature_embedding(df_COOH.drop(columns=['Adsorbate','Eads']))\n",
    "y = df_COOH['Eads']"
   ]
  },
  {
   "cell_type": "markdown",
   "id": "ff462492",
   "metadata": {},
   "source": [
    "## Step 2: Train Model, Extract internal weights"
   ]
  },
  {
   "cell_type": "code",
   "execution_count": 7,
   "id": "452728d5",
   "metadata": {},
   "outputs": [],
   "source": [
    "#Model Training + Fitting\n",
    "from random import shuffle\n",
    "x_train, x_test, y_train, y_test = train_test_split(x,y, test_size=0.15)\n",
    "class MyModel(tf.keras.Model):\n",
    "  def __init__(self, ):\n",
    "    super(MyModel, self).__init__()\n",
    "    self.w1 = tf.keras.layers.Dense(6, activation='tanh', use_bias=False)\n",
    "    self.w3 = tf.keras.layers.Dense(1, activation='linear', use_bias=False)\n",
    "  def call(self, inputs):\n",
    "    x = self.w1(inputs)\n",
    "    x = self.w3(x)\n",
    "    return tf.math.reduce_sum(x, axis=1,)\n",
    "model = MyModel()\n",
    "model.compile(optimizer='adam', loss='mse', metrics=['mae','mse'])\n",
    "h = model.fit(x_train, y_train, epochs=3000, callbacks=[],verbose=0 )"
   ]
  },
  {
   "cell_type": "markdown",
   "id": "9bd6da87",
   "metadata": {},
   "source": [
    "## Step 3: Recreate NN manually with extracted weights"
   ]
  },
  {
   "cell_type": "code",
   "execution_count": 8,
   "id": "ba9244ba",
   "metadata": {},
   "outputs": [
    {
     "name": "stdout",
     "output_type": "stream",
     "text": [
      "Average site influence across all elements: 0.3259 eV/atom\n"
     ]
    }
   ],
   "source": [
    "#Extract internal weights of NN\n",
    "params = model.trainable_variables\n",
    "p1 = np.array(params[0])\n",
    "p2 = np.array(params[1])\n",
    "\n",
    "#Perform NN decompistion:\n",
    "#Have to specify sites 1-10 (See SI of paper for visualization/elaboration)\n",
    "avg_inf = feature_eng.NN_decomposition(3,p1,p2)"
   ]
  },
  {
   "cell_type": "markdown",
   "id": "786a4c54",
   "metadata": {},
   "source": [
    "Repeat for each adsorbate dataset to obtain the\n",
    "figures produced in ACS Catal. 2022, 12, 24, 14864–14871\n",
    "(https://doi.org/10.1021/acscatal.2c03675)"
   ]
  }
 ],
 "metadata": {
  "kernelspec": {
   "display_name": "Python 3 (ipykernel)",
   "language": "python",
   "name": "python3"
  },
  "language_info": {
   "codemirror_mode": {
    "name": "ipython",
    "version": 3
   },
   "file_extension": ".py",
   "mimetype": "text/x-python",
   "name": "python",
   "nbconvert_exporter": "python",
   "pygments_lexer": "ipython3",
   "version": "3.9.15"
  }
 },
 "nbformat": 4,
 "nbformat_minor": 5
}
